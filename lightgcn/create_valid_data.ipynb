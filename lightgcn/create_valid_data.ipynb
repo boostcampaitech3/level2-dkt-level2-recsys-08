{
 "cells": [
  {
   "cell_type": "code",
<<<<<<< HEAD
   "execution_count": 1,
=======
   "execution_count": null,
>>>>>>> 296752926a6e89406b4e2364fa5c62e99f6be183
   "metadata": {},
   "outputs": [],
   "source": [
    "import pandas as pd\n",
    "\n",
    "# Peter의 cv_valid_data.csv경로를 넣어주세요\n",
<<<<<<< HEAD
    "cv_valid = pd.read_csv('/opt/ml/input/data/cv_valid_data.csv')\n",
    "\n",
    "# 주어진 train파일 로딩\n",
    "train_df = pd.read_csv('/opt/ml/input/data/train_data.csv')\n",
=======
    "cv_valid = pd.read_csv('/opt/ml/input/data/v0/cv_valid_data.csv')\n",
    "\n",
    "# 주어진 train파일 로딩\n",
    "train_df = pd.read_csv('/opt/ml/input/data/train_data.csv')"
   ]
  },
  {
   "cell_type": "code",
   "execution_count": null,
   "metadata": {},
   "outputs": [],
   "source": [
>>>>>>> 296752926a6e89406b4e2364fa5c62e99f6be183
    "# valid에 있는 사용자 아이디 추출\n",
    "valid_uids = cv_valid.userID.unique()\n",
    "\n",
    "# 해당 사용자의 정답 row추출\n",
    "valid_ans = train_df[train_df.userID.isin(valid_uids)].groupby('userID').last().reset_index()\n",
<<<<<<< HEAD
    "valid_ans\n",
=======
    "valid_ans"
   ]
  },
  {
   "cell_type": "code",
   "execution_count": null,
   "metadata": {},
   "outputs": [],
   "source": [
>>>>>>> 296752926a6e89406b4e2364fa5c62e99f6be183
    "# 혹시 모르니 double check\n",
    "valid_check = cv_valid[cv_valid.answerCode==-1].reset_index()\n",
    "assert valid_check['userID'].equals(valid_ans['userID'])\n",
    "assert valid_check['assessmentItemID'].equals(valid_ans['assessmentItemID'])\n",
    "assert valid_check['testId'].equals(valid_ans['testId'])\n",
    "assert valid_check['Timestamp'].equals(valid_ans['Timestamp'])\n",
<<<<<<< HEAD
    "assert valid_check['KnowledgeTag'].equals(valid_ans['KnowledgeTag'])\n",
    "# 저장할 경로를 넣어주세요\n",
    "valid_ans.to_csv('/opt/ml/input/data/lcn_valid_data.csv')"
=======
    "assert valid_check['KnowledgeTag'].equals(valid_ans['KnowledgeTag'])"
>>>>>>> 296752926a6e89406b4e2364fa5c62e99f6be183
   ]
  },
  {
   "cell_type": "code",
   "execution_count": null,
   "metadata": {},
   "outputs": [],
<<<<<<< HEAD
   "source": []
=======
   "source": [
    "# 저장할 경로를 넣어주세요\n",
    "valid_ans.to_csv('')"
   ]
>>>>>>> 296752926a6e89406b4e2364fa5c62e99f6be183
  }
 ],
 "metadata": {
  "interpreter": {
   "hash": "d4d1e4263499bec80672ea0156c357c1ee493ec2b1c70f0acce89fc37c4a6abe"
  },
  "kernelspec": {
   "display_name": "Python 3.8.5 ('base')",
   "language": "python",
   "name": "python3"
  },
  "language_info": {
   "codemirror_mode": {
    "name": "ipython",
    "version": 3
   },
   "file_extension": ".py",
   "mimetype": "text/x-python",
   "name": "python",
   "nbconvert_exporter": "python",
   "pygments_lexer": "ipython3",
   "version": "3.8.5"
  },
  "orig_nbformat": 4
 },
 "nbformat": 4,
 "nbformat_minor": 2
}
