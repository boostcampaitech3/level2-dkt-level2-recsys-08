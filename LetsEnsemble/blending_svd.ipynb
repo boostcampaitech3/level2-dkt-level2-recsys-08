{
 "cells": [
  {
   "cell_type": "code",
   "execution_count": 5,
   "id": "92d257cd-824a-4921-8b21-c14bada43824",
   "metadata": {},
   "outputs": [],
   "source": [
    "# https://www.kaggle.com/code/sarmat/lgbm-stacking-example/notebook"
   ]
  },
  {
   "cell_type": "code",
   "execution_count": 87,
   "id": "e1cc2c9a-80ee-4932-b759-7f49c34b9ee2",
   "metadata": {},
   "outputs": [],
   "source": [
    "import numpy as np # linear algebra\n",
    "import pandas as pd\n",
    "import random\n",
    "from scipy.sparse.linalg import svds\n",
    "\n",
    "from sklearn import metrics\n",
    "from sklearn.model_selection import cross_val_score, KFold\n",
    "from sklearn.model_selection import train_test_split\n",
    "\n",
    "import torch\n",
    "from tqdm import tqdm\n",
    "from dataset import custom_train_test_split, make_dataset\n",
    "\n",
    "from sklearn.metrics import RocCurveDisplay, accuracy_score, roc_auc_score, precision_score, recall_score, f1_score, roc_curve, auc\n",
    "\n",
    "\n",
    "def get_metric(targets, preds):\n",
    "    auc = roc_auc_score(targets, preds)\n",
    "    acc = accuracy_score(targets, np.where(preds >= 0.5, 1, 0))\n",
    "    precsion = precision_score(targets, np.where(preds >= 0.5, 1, 0))\n",
    "    recall = recall_score(targets, np.where(preds >= 0.5, 1, 0))\n",
    "    F1_score = f1_score(targets, np.where(preds >= 0.5, 1, 0))\n",
    "\n",
    "    print('auc :',auc)\n",
    "    print('acc :',acc)\n",
    "    print('precision :',precsion)\n",
    "    print('recall :',recall)\n",
    "\n",
    "def test_to_csv(preds, name:str):\n",
    "    \n",
    "    result = []\n",
    "    for n,i in enumerate(preds):\n",
    "        row = {}    \n",
    "        row['id'] = n\n",
    "        row['prediction'] = i\n",
    "        result.append(row)\n",
    "    pd.DataFrame(result).to_csv(f'output/{name}.csv', index=None)\n",
    "    \n"
   ]
  },
  {
   "cell_type": "code",
   "execution_count": 7,
   "id": "bbfda087",
   "metadata": {},
   "outputs": [],
   "source": [
    "train_data = pd.read_csv('/opt/ml/input/data/train_data.csv')\n",
    "test_data  = pd.read_csv('/opt/ml/input/data/test_data.csv')"
   ]
  },
  {
   "cell_type": "code",
   "execution_count": 8,
   "id": "ddcb5a82",
   "metadata": {},
   "outputs": [],
   "source": [
    "train_data.drop_duplicates(subset = [\"userID\", \"assessmentItemID\"], keep = \"last\", inplace = True)\n",
    "train_data.drop(['Timestamp','testId','KnowledgeTag'], axis=1, inplace=True, errors='ignore')"
   ]
  },
  {
   "cell_type": "code",
   "execution_count": 9,
   "id": "6b5f7b46",
   "metadata": {},
   "outputs": [],
   "source": [
    "matrix_train = train_data.pivot_table('answerCode', index='userID', columns='assessmentItemID')\n",
    "matrix_train.fillna(0.5, inplace=True)"
   ]
  },
  {
   "cell_type": "code",
   "execution_count": 10,
   "id": "c459f8af",
   "metadata": {},
   "outputs": [],
   "source": [
    "user_id2idx = {v:i for i,v in enumerate(matrix_train.index)}\n",
    "user_idx2id = {i:v for i,v in enumerate(matrix_train.index)}\n",
    "\n",
    "item_id2idx = {v:i for i,v in enumerate(matrix_train.columns)}\n",
    "item_idx2id = {i:v for i,v in enumerate(matrix_train.columns)}"
   ]
  },
  {
   "cell_type": "code",
   "execution_count": 16,
   "id": "713964ec",
   "metadata": {},
   "outputs": [],
   "source": [
    "def predict(matrix, userid, itemid, user_id2idx, item_id2idx, k):\n",
    "    A = matrix_train.values\n",
    "    a_mean = np.mean(A, axis=1)\n",
    "    Am = A - a_mean.reshape(-1,1)\n",
    "\n",
    "    U, sigma, V = svds(Am, k=k)\n",
    "    \n",
    "    Sigma = np.diag(sigma)\n",
    "    Sigma_i = np.diag(1/sigma)\n",
    "    pred_matrix = V.T @ Sigma_i @ Sigma @ V\n",
    "    \n",
    "    B = matrix\n",
    "    B_mean = np.mean(B, axis=1)\n",
    "    Bm = B - B_mean.reshape(-1,1)\n",
    "\n",
    "    B_pred =  B @ pred_matrix + B_mean.reshape(-1,1)\n",
    "\n",
    "    ret = [B_pred[user_id2idx[u], item_id2idx[i]] for u,i in zip(userid, itemid)]\n",
    "    return ret"
   ]
  },
  {
   "cell_type": "code",
   "execution_count": 68,
   "id": "c404f1b8-04c6-49bf-843b-3f3485fd513a",
   "metadata": {},
   "outputs": [
    {
     "name": "stdout",
     "output_type": "stream",
     "text": [
      "auc : 0.7594001217435203\n",
      "acc : 0.7453792462709189\n",
      "precision : 0.7645841458024595\n",
      "recall : 0.8834209498633182\n",
      "AUC SVD1:None \n",
      "auc : 0.7668146174036005\n",
      "acc : 0.7531621899321699\n",
      "precision : 0.7681388664888448\n",
      "recall : 0.8927753912703896\n",
      "AUC SVD2:None \n",
      "auc : 0.7737004979789429\n",
      "acc : 0.7570398831574264\n",
      "precision : 0.773271196789496\n",
      "recall : 0.8902340112349425\n",
      "AUC SVD3:None \n",
      "auc : 0.7792546574725867\n",
      "acc : 0.759894022840991\n",
      "precision : 0.7752936876729494\n",
      "recall : 0.892138544263871\n",
      "AUC SVD4:None \n",
      "auc : 0.7830752291494566\n",
      "acc : 0.7623741718073987\n",
      "precision : 0.7773176903611686\n",
      "recall : 0.8932440145393373\n",
      "AUC SVD5:None \n"
     ]
    }
   ],
   "source": [
    "valid_user  = pd.read_csv('/opt/ml/input/data/cv_valid_data.csv').userID.unique()\n",
    "all_train = pd.read_csv('/opt/ml/input/data/all.csv')\n",
    "valid_data = all_train[all_train.userID.isin(valid_user)]\n",
    "userid = sorted(list(set([u for u in valid_data.userID])))\n",
    "user_id2idx_valid = {v:i for i,v in enumerate(userid)}\n",
    "\n",
    "matrix_valid = 0.5*np.ones((len(userid), len(item_id2idx)))\n",
    "for user,item,a in zip(valid_data.userID, valid_data.assessmentItemID, valid_data.answerCode):\n",
    "    user,item = user_id2idx_valid[user],item_id2idx[item]\n",
    "    matrix_valid[user,item] = a\n",
    "\n",
    "valid_predict1 = predict(matrix_valid, valid_data.userID, valid_data.assessmentItemID, user_id2idx_valid, item_id2idx, 6)\n",
    "valid_predict2 = predict(matrix_valid, valid_data.userID, valid_data.assessmentItemID, user_id2idx_valid, item_id2idx, 8)\n",
    "valid_predict3 = predict(matrix_valid, valid_data.userID, valid_data.assessmentItemID, user_id2idx_valid, item_id2idx, 10)\n",
    "valid_predict4 = predict(matrix_valid, valid_data.userID, valid_data.assessmentItemID, user_id2idx_valid, item_id2idx, 12)\n",
    "valid_predict5 = predict(matrix_valid, valid_data.userID, valid_data.assessmentItemID, user_id2idx_valid, item_id2idx, 14)\n",
    "\n",
    "# item_id2idx는 train에서 사용한 것을 다시 사용한다.\n",
    "test_data  = pd.read_csv('/opt/ml/input/data/test_data.csv')\n",
    "\n",
    "userid = sorted(list(set([u for u in test_data.userID])))\n",
    "user_id2idx_test = {v:i for i,v in enumerate(userid)}\n",
    "\n",
    "matrix_test = 0.5*np.ones((len(userid), len(item_id2idx)))\n",
    "for user,item,a in zip(test_data.userID, test_data.assessmentItemID, test_data.answerCode):\n",
    "    user,item = user_id2idx_test[user],item_id2idx[item]\n",
    "    matrix_test[user,item] = a\n",
    "\n",
    "test_data = test_data[test_data.answerCode==-1]\n",
    "\n",
    "test_predict1 = predict(matrix_test, test_data.userID, test_data.assessmentItemID, user_id2idx_test, item_id2idx, 6)\n",
    "test_predict2 = predict(matrix_test, test_data.userID, test_data.assessmentItemID, user_id2idx_test, item_id2idx, 8)\n",
    "test_predict3 = predict(matrix_test, test_data.userID, test_data.assessmentItemID, user_id2idx_test, item_id2idx, 10)\n",
    "test_predict4 = predict(matrix_test, test_data.userID, test_data.assessmentItemID, user_id2idx_test, item_id2idx, 12)\n",
    "test_predict5 = predict(matrix_test, test_data.userID, test_data.assessmentItemID, user_id2idx_test, item_id2idx, 14)\n",
    "\n",
    "# print('Fold no: {}'.format(fold_))\n",
    "print(\"AUC SVD1:{} \".format(get_metric(valid_data.answerCode.to_numpy(), np.array(valid_predict1))))\n",
    "print(\"AUC SVD2:{} \".format(get_metric(valid_data.answerCode.to_numpy(), np.array(valid_predict2))))\n",
    "print(\"AUC SVD3:{} \".format(get_metric(valid_data.answerCode.to_numpy(), np.array(valid_predict3))))\n",
    "print(\"AUC SVD4:{} \".format(get_metric(valid_data.answerCode.to_numpy(), np.array(valid_predict4))))\n",
    "print(\"AUC SVD5:{} \".format(get_metric(valid_data.answerCode.to_numpy(), np.array(valid_predict5)))) "
   ]
  },
  {
   "cell_type": "code",
   "execution_count": 90,
   "id": "a496d655",
   "metadata": {},
   "outputs": [],
   "source": [
    "new_valid = np.array([valid_predict1, valid_predict2, valid_predict3, valid_predict4, valid_predict5]).T\n",
    "\n",
    "new_test = np.array([test_predict1, test_predict2, test_predict3, test_predict4, test_predict5]).T"
   ]
  },
  {
   "cell_type": "code",
   "execution_count": 83,
   "id": "f9e5fd4b",
   "metadata": {},
   "outputs": [],
   "source": [
    "val = pd.read_csv('/opt/ml/input/data/cv_valid_data.csv')\n",
    "tail_idx = val.index[val.answerCode==-1].to_numpy()"
   ]
  },
  {
   "cell_type": "code",
   "execution_count": 91,
   "id": "106ded69",
   "metadata": {},
   "outputs": [],
   "source": [
    "y_valid = valid_data.answerCode.to_numpy()\n",
    "\n",
    "valid_tail = [new_valid[i] for i in range(len(new_valid)) if i in tail_idx]\n",
    "y_tail = [y_valid[i] for i in range(len(y_valid)) if i in tail_idx]\n",
    "\n",
    "new_valid = [new_valid[i] for i in range(len(new_valid)) if not i in tail_idx]\n",
    "y_new_valid = [y_valid[i] for i in range(len(y_valid)) if not i in tail_idx]"
   ]
  },
  {
   "cell_type": "code",
   "execution_count": 99,
   "id": "fae54566",
   "metadata": {},
   "outputs": [
    {
     "data": {
      "application/vnd.jupyter.widget-view+json": {
       "model_id": "74e29c69e6a243dcaed3881a4f16980f",
       "version_major": 2,
       "version_minor": 0
      },
      "text/plain": [
       "MetricVisualizer(layout=Layout(align_self='stretch', height='500px'))"
      ]
     },
     "metadata": {},
     "output_type": "display_data"
    },
    {
     "data": {
      "text/plain": [
       "<catboost.core.CatBoostClassifier at 0x7fd6144ea820>"
      ]
     },
     "execution_count": 99,
     "metadata": {},
     "output_type": "execute_result"
    }
   ],
   "source": [
    "from catboost import CatBoostClassifier, Pool\n",
    "\n",
    "train_pool = Pool(new_valid, y_new_valid)\n",
    "# eval_pool = Pool(valid_tail , y_tail)\n",
    "eval_pool = Pool(valid_tail, y_tail)\n",
    "\n",
    "Final_cat = CatBoostClassifier(\n",
    "            iterations = 3000,\n",
    "            random_seed = 42,\n",
    "            learning_rate = 0.0005,\n",
    "            loss_function = 'Logloss', \n",
    "            custom_metric = ['Logloss','AUC'],\n",
    "            early_stopping_rounds = 30,\n",
    "            use_best_model =  True,\n",
    "            task_type = \"GPU\",\n",
    "            bagging_temperature = 1,\n",
    "            verbose = False)\n",
    "\n",
    "Final_cat.fit(train_pool, eval_set=eval_pool, plot=True)"
   ]
  },
  {
   "cell_type": "code",
   "execution_count": 102,
   "id": "7d8210eb",
   "metadata": {},
   "outputs": [],
   "source": [
    "preds = Final_cat.predict(new_test , prediction_type='Probability')[:,1]\n",
    "\n",
    "from datetime import date, datetime, timezone, timedelta\n",
    "\n",
    "KST = timezone(timedelta(hours=9))\n",
    "time_record = datetime.now(KST)\n",
    "_day = str(time_record)[:10]\n",
    "_time = str(time_record.time())[:8]\n",
    "now_time = _day+'_'+_time\n",
    "\n",
    "test_to_csv(new_test.mean(axis=1),f'Stacking_SVD_{now_time}')"
   ]
  },
  {
   "cell_type": "code",
   "execution_count": 101,
   "id": "fd3c913a",
   "metadata": {},
   "outputs": [
    {
     "data": {
      "text/plain": [
       "744"
      ]
     },
     "execution_count": 101,
     "metadata": {},
     "output_type": "execute_result"
    }
   ],
   "source": []
  },
  {
   "cell_type": "code",
   "execution_count": null,
   "id": "ae3a7e95",
   "metadata": {},
   "outputs": [],
   "source": []
  }
 ],
 "metadata": {
  "kernelspec": {
   "display_name": "Python 3 (ipykernel)",
   "language": "python",
   "name": "python3"
  },
  "language_info": {
   "codemirror_mode": {
    "name": "ipython",
    "version": 3
   },
   "file_extension": ".py",
   "mimetype": "text/x-python",
   "name": "python",
   "nbconvert_exporter": "python",
   "pygments_lexer": "ipython3",
   "version": "3.8.5"
  }
 },
 "nbformat": 4,
 "nbformat_minor": 5
}
