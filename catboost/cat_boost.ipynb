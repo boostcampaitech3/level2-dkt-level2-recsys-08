{
 "cells": [
  {
   "cell_type": "markdown",
   "metadata": {},
   "source": [
    "### 데이터 전처리"
   ]
  },
  {
   "cell_type": "code",
   "execution_count": null,
   "metadata": {},
   "outputs": [],
   "source": [
    "import numpy as np\n",
    "import pandas as pd\n",
    "from catboost import CatBoostClassifier, Pool\n",
    "from dataset import feature_engineering, custom_train_test_split, make_dataset\n",
    "\n",
    "dtype = {\n",
    "    'userID': 'int16',\n",
    "    'answerCode': 'int8',\n",
    "    'KnowledgeTag': 'int16'\n",
    "}\n",
    "\n",
    "\n",
    "train_data = pd.read_csv('/opt/ml/input/data/cv_train_data.csv',dtype=dtype, parse_dates=['Timestamp'])\n",
    "train_data = feature_engineering(train_data)"
   ]
  },
  {
   "cell_type": "markdown",
   "metadata": {},
   "source": [
    "### 모델\n"
   ]
  },
  {
   "cell_type": "code",
   "execution_count": null,
   "metadata": {
    "tags": []
   },
   "outputs": [],
   "source": [
    "from sklearn.metrics import accuracy_score\n",
    "\n",
    "train, valid = custom_train_test_split(train_data)\n",
    "FEATS, y_train, x_train, y_valid, x_valid = make_dataset(train, valid)\n",
    "\n",
    "\n",
    "train_pool = Pool(x_train ,y_train, cat_features = ['assessmentItemID', 'testId'])\n",
    "eval_pool = Pool(x_valid , y_valid, cat_features = ['assessmentItemID', 'testId'])\n",
    "\n",
    "model = CatBoostClassifier(\n",
    "            iterations = 300,\n",
    "            random_seed = 42,\n",
    "            learning_rate = 0.001,\n",
    "            loss_function = 'Logloss', ## 사실 Default 값은 Logloss 이다. 만약 CatBoostRegressor 였으면, RMSE 이다.\n",
    "            custom_metric = ['Logloss','AUC'],\n",
    "            early_stopping_rounds = 30,\n",
    "            use_best_model =  True,\n",
    "            task_type = \"GPU\",\n",
    "            bagging_temperature = 1,\n",
    "            verbose = False)\n",
    "\n",
    "model.fit(train_pool, eval_set=eval_pool,plot=True) ## ,save_snapshot=True"
   ]
  },
  {
   "cell_type": "markdown",
   "metadata": {},
   "source": [
    "### Valid 추출"
   ]
  },
  {
   "cell_type": "code",
   "execution_count": null,
   "metadata": {},
   "outputs": [],
   "source": [
    "cv_valid_data = pd.read_csv('/opt/ml/input/data/cv_valid_data.csv',dtype=dtype, parse_dates=['Timestamp'])\n",
    "test_data = feature_engineering(cv_valid_data)\n",
    "\n",
    "# test 데이터셋은 각 유저의 마지막 interaction만 추출\n",
    "test_data = test_data[test_data['userID'] != test_data['userID'].shift(-1)]\n",
    "test_data = test_data.drop(['answerCode'], axis=1)\n",
    "\n",
    "preds = model.predict(test_data[FEATS], prediction_type='Probability')[:,1]\n",
    "\n",
    "output_dir = 'output/'\n",
    "write_path = os.path.join(output_dir, \"catboost_valid.csv\")\n",
    "if not os.path.exists(output_dir):\n",
    "    os.makedirs(output_dir)\n",
    "with open(write_path, 'w', encoding='utf8') as w:\n",
    "    print(\"writing prediction : {}\".format(write_path))\n",
    "    w.write(\"id,prediction\\n\")\n",
    "    for id, p in enumerate(preds):\n",
    "        w.write('{},{}\\n'.format(id,p))\n",
    "\n",
    "        "
   ]
  },
  {
   "cell_type": "markdown",
   "metadata": {},
   "source": [
    "### Test 추출"
   ]
  },
  {
   "cell_type": "code",
   "execution_count": null,
   "metadata": {},
   "outputs": [],
   "source": [
    "test_data = pd.read_csv('/opt/ml/input/data/test_data.csv',dtype=dtype, parse_dates=['Timestamp'])\n",
    "test_data = feature_engineering(test_data)\n",
    "# test 데이터셋은 각 유저의 마지막 interaction만 추출\n",
    "test_data = test_data[test_data['userID'] != test_data['userID'].shift(-1)]\n",
    "test_data = test_data.drop(['answerCode'], axis=1)\n",
    "\n",
    "preds = model.predict(test_data, prediction_type='Probability')[:,1]\n",
    "\n",
    "output_dir = 'output/'\n",
    "write_path = os.path.join(output_dir, \"catboost_test.csv\")\n",
    "\n",
    "if not os.path.exists(output_dir):\n",
    "    os.makedirs(output_dir)\n",
    "with open(write_path, 'w', encoding='utf8') as w:\n",
    "    print(\"writing prediction : {}\".format(write_path))\n",
    "    w.write(\"id,prediction\\n\")\n",
    "    for id, p in enumerate(preds):\n",
    "        w.write('{},{}\\n'.format(id,p))"
   ]
  }
 ],
 "metadata": {
  "interpreter": {
   "hash": "d4d1e4263499bec80672ea0156c357c1ee493ec2b1c70f0acce89fc37c4a6abe"
  },
  "kernelspec": {
   "display_name": "Python 3 (ipykernel)",
   "language": "python",
   "name": "python3"
  },
  "language_info": {
   "codemirror_mode": {
    "name": "ipython",
    "version": 3
   },
   "file_extension": ".py",
   "mimetype": "text/x-python",
   "name": "python",
   "nbconvert_exporter": "python",
   "pygments_lexer": "ipython3",
   "version": "3.8.5"
  }
 },
 "nbformat": 4,
 "nbformat_minor": 4
}
